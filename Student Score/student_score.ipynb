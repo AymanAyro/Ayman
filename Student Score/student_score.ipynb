{
  "cells": [
    {
      "cell_type": "markdown",
      "metadata": {
        "id": "rS8UfPqkm6-D"
      },
      "source": [
        "#*Logistic Regression Lab*"
      ]
    },
    {
      "cell_type": "code",
      "execution_count": 3,
      "metadata": {
        "id": "SkfAOyAInjx_"
      },
      "outputs": [],
      "source": [
        "import numpy as np # linear algebra\n",
        "import pandas as pd # data processing, CSV file I/O (e.g. pd.read_csv)\n",
        "#Plots\n",
        "import matplotlib.pyplot as plt\n",
        "import seaborn as sb\n",
        "from sklearn.metrics import confusion_matrix #Confusion matrix\n",
        "from sklearn.metrics import accuracy_score  \n",
        "from sklearn.model_selection import train_test_split\n",
        "from sklearn.linear_model import LogisticRegression\n",
        "import math\n",
        "\n",
        "\n",
        "#Load Data\n",
        "data = pd.read_csv('student_score.csv',index_col=0)\n"
      ]
    },
    {
      "cell_type": "markdown",
      "metadata": {
        "id": "hCFbl8cuVS9k"
      },
      "source": [
        "##**Problem Statement**\n",
        "\n",
        "Suppose that you are the administrator of a university department and you want to determine each applicant’s chance of admission based on their results on two exams.\n",
        "\n",
        "\n",
        "*   You have historical data from previous applicants that you can use as a training set for logistic regression.\n",
        "*   For each training example, you have the applicant’s scores on two exams and the admissions decision.\n",
        "*  Your task is to build a classification model that estimates an applicant’s probability of admission based on the scores from those two exams. \n",
        "\n",
        "\n",
        "\n",
        "\n"
      ]
    },
    {
      "cell_type": "markdown",
      "metadata": {
        "id": "f-c3zbu7_Z0S"
      },
      "source": [
        "## Inspecting the data"
      ]
    },
    {
      "cell_type": "markdown",
      "metadata": {
        "id": "KeLgOjttsJHr"
      },
      "source": [
        "Inspecting the top 5 examples of the data"
      ]
    },
    {
      "cell_type": "code",
      "execution_count": 4,
      "metadata": {
        "colab": {
          "base_uri": "https://localhost:8080/",
          "height": 237
        },
        "id": "-BQ9Yn4mJlKe",
        "outputId": "4be99e00-7b11-45ef-8ade-ec16dbd7ff2e"
      },
      "outputs": [
        {
          "data": {
            "text/html": [
              "<div>\n",
              "<style scoped>\n",
              "    .dataframe tbody tr th:only-of-type {\n",
              "        vertical-align: middle;\n",
              "    }\n",
              "\n",
              "    .dataframe tbody tr th {\n",
              "        vertical-align: top;\n",
              "    }\n",
              "\n",
              "    .dataframe thead th {\n",
              "        text-align: right;\n",
              "    }\n",
              "</style>\n",
              "<table border=\"1\" class=\"dataframe\">\n",
              "  <thead>\n",
              "    <tr style=\"text-align: right;\">\n",
              "      <th></th>\n",
              "      <th>Exam1</th>\n",
              "      <th>Exam2</th>\n",
              "      <th>Status</th>\n",
              "    </tr>\n",
              "    <tr>\n",
              "      <th>ID</th>\n",
              "      <th></th>\n",
              "      <th></th>\n",
              "      <th></th>\n",
              "    </tr>\n",
              "  </thead>\n",
              "  <tbody>\n",
              "    <tr>\n",
              "      <th>1</th>\n",
              "      <td>34.623660</td>\n",
              "      <td>78.024693</td>\n",
              "      <td>0</td>\n",
              "    </tr>\n",
              "    <tr>\n",
              "      <th>2</th>\n",
              "      <td>30.286711</td>\n",
              "      <td>43.894998</td>\n",
              "      <td>0</td>\n",
              "    </tr>\n",
              "    <tr>\n",
              "      <th>3</th>\n",
              "      <td>35.847409</td>\n",
              "      <td>72.902198</td>\n",
              "      <td>0</td>\n",
              "    </tr>\n",
              "    <tr>\n",
              "      <th>4</th>\n",
              "      <td>60.182599</td>\n",
              "      <td>86.308552</td>\n",
              "      <td>1</td>\n",
              "    </tr>\n",
              "    <tr>\n",
              "      <th>5</th>\n",
              "      <td>79.032736</td>\n",
              "      <td>75.344376</td>\n",
              "      <td>1</td>\n",
              "    </tr>\n",
              "  </tbody>\n",
              "</table>\n",
              "</div>"
            ],
            "text/plain": [
              "        Exam1      Exam2  Status\n",
              "ID                              \n",
              "1   34.623660  78.024693       0\n",
              "2   30.286711  43.894998       0\n",
              "3   35.847409  72.902198       0\n",
              "4   60.182599  86.308552       1\n",
              "5   79.032736  75.344376       1"
            ]
          },
          "execution_count": 4,
          "metadata": {},
          "output_type": "execute_result"
        }
      ],
      "source": [
        "data.head()"
      ]
    },
    {
      "cell_type": "markdown",
      "metadata": {
        "id": "RrQe2N5qBZTP"
      },
      "source": [
        "Visualising the data"
      ]
    },
    {
      "cell_type": "code",
      "execution_count": 5,
      "metadata": {
        "colab": {
          "base_uri": "https://localhost:8080/",
          "height": 496
        },
        "id": "FFzgUyPzAdL0",
        "outputId": "e2063a1a-a989-4e0e-c8a3-16e899a856b0"
      },
      "outputs": [
        {
          "data": {
            "image/png": "[encoded data removed]",
            "text/plain": [
              "<Figure size 300x300 with 1 Axes>"
            ]
          },
          "metadata": {},
          "output_type": "display_data"
        }
      ],
      "source": [
        "statPlt = sb.FacetGrid(data, hue=\"Status\").map(plt.scatter, \"Exam1\", \"Exam2\")\n",
        "plt.legend(loc='upper right');"
      ]
    },
    {
      "cell_type": "markdown",
      "metadata": {
        "id": "EHBy3n1nBWDp"
      },
      "source": [
        "Assign features to matrix X and target to vector y\n",
        "\n"
      ]
    },
    {
      "cell_type": "code",
      "execution_count": 6,
      "metadata": {
        "id": "8iGMcjtWQx_J"
      },
      "outputs": [],
      "source": [
        "features = data[['Exam1','Exam2']]\n",
        "target = data.Status"
      ]
    },
    {
      "cell_type": "markdown",
      "metadata": {
        "id": "KB5WP2lCBo4U"
      },
      "source": [
        "in the following cell try inspecting the first 5 examples in both X and y"
      ]
    },
    {
      "cell_type": "code",
      "execution_count": 7,
      "metadata": {
        "id": "4XVFB866BSPu"
      },
      "outputs": [
        {
          "data": {
            "text/html": [
              "<div>\n",
              "<style scoped>\n",
              "    .dataframe tbody tr th:only-of-type {\n",
              "        vertical-align: middle;\n",
              "    }\n",
              "\n",
              "    .dataframe tbody tr th {\n",
              "        vertical-align: top;\n",
              "    }\n",
              "\n",
              "    .dataframe thead th {\n",
              "        text-align: right;\n",
              "    }\n",
              "</style>\n",
              "<table border=\"1\" class=\"dataframe\">\n",
              "  <thead>\n",
              "    <tr style=\"text-align: right;\">\n",
              "      <th></th>\n",
              "      <th>Exam1</th>\n",
              "      <th>Exam2</th>\n",
              "      <th>Status</th>\n",
              "    </tr>\n",
              "    <tr>\n",
              "      <th>ID</th>\n",
              "      <th></th>\n",
              "      <th></th>\n",
              "      <th></th>\n",
              "    </tr>\n",
              "  </thead>\n",
              "  <tbody>\n",
              "    <tr>\n",
              "      <th>1</th>\n",
              "      <td>34.623660</td>\n",
              "      <td>78.024693</td>\n",
              "      <td>0</td>\n",
              "    </tr>\n",
              "    <tr>\n",
              "      <th>2</th>\n",
              "      <td>30.286711</td>\n",
              "      <td>43.894998</td>\n",
              "      <td>0</td>\n",
              "    </tr>\n",
              "    <tr>\n",
              "      <th>3</th>\n",
              "      <td>35.847409</td>\n",
              "      <td>72.902198</td>\n",
              "      <td>0</td>\n",
              "    </tr>\n",
              "    <tr>\n",
              "      <th>4</th>\n",
              "      <td>60.182599</td>\n",
              "      <td>86.308552</td>\n",
              "      <td>1</td>\n",
              "    </tr>\n",
              "    <tr>\n",
              "      <th>5</th>\n",
              "      <td>79.032736</td>\n",
              "      <td>75.344376</td>\n",
              "      <td>1</td>\n",
              "    </tr>\n",
              "  </tbody>\n",
              "</table>\n",
              "</div>"
            ],
            "text/plain": [
              "        Exam1      Exam2  Status\n",
              "ID                              \n",
              "1   34.623660  78.024693       0\n",
              "2   30.286711  43.894998       0\n",
              "3   35.847409  72.902198       0\n",
              "4   60.182599  86.308552       1\n",
              "5   79.032736  75.344376       1"
            ]
          },
          "execution_count": 7,
          "metadata": {},
          "output_type": "execute_result"
        }
      ],
      "source": [
        "data.head()"
      ]
    },
    {
      "cell_type": "markdown",
      "metadata": {
        "id": "n0vo7JE3B4LH"
      },
      "source": [
        "Splitting the data into training and testing sets"
      ]
    },
    {
      "cell_type": "code",
      "execution_count": 8,
      "metadata": {
        "id": "gU_NOdOYB3ct"
      },
      "outputs": [],
      "source": [
        "features = np.array(features)\n",
        "target =np.array(target)\n",
        "X_train,X_test,y_train,y_test = train_test_split(features, target, test_size = 0.2, random_state = 42)"
      ]
    },
    {
      "cell_type": "code",
      "execution_count": 9,
      "metadata": {
        "id": "djwh8g2g3r0F"
      },
      "outputs": [],
      "source": [
        "def normalize_features(X):\n",
        "    X_norm = (X - np.mean(X, axis=0)) / np.std(X, axis=0)\n",
        "    return X_norm\n",
        "\n",
        "# normalize the input features\n",
        "X_train = normalize_features(X_train)\n",
        "X_test = normalize_features(X_test)\n",
        "\n",
        "# X_train = X_train.reshape(-1,1)\n",
        "# X_test = X_test.reshape(-1,1)\n",
        "y_train = y_train.reshape(-1,1)\n",
        "y_test = y_test.reshape(-1,1)"
      ]
    },
    {
      "cell_type": "markdown",
      "metadata": {
        "id": "DCOhLDDuyZbx"
      },
      "source": [
        "Examine the shape of X_train"
      ]
    },
    {
      "cell_type": "code",
      "execution_count": 10,
      "metadata": {
        "id": "dR3ZvHgRyMi8"
      },
      "outputs": [
        {
          "data": {
            "text/plain": [
              "(80, 2)"
            ]
          },
          "execution_count": 10,
          "metadata": {},
          "output_type": "execute_result"
        }
      ],
      "source": [
        "X_train=np.array(X_train)\n",
        "X_train.shape"
      ]
    },
    {
      "cell_type": "markdown",
      "metadata": {
        "id": "R45kQP5CCG_y"
      },
      "source": [
        "## **Implementing Sigmoid Function**"
      ]
    },
    {
      "cell_type": "markdown",
      "metadata": {
        "id": "0bj6yzvEsBHl"
      },
      "source": []
    },
    {
      "cell_type": "markdown",
      "metadata": {
        "id": "LQBVtdwwCNMF"
      },
      "source": [
        "As you hopefully remember from the session, the equation of logistic regresion is as follows:\n",
        "\n",
        "![Screenshot 2023-02-15 142637.png](data:image/png;base64,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)"
      ]
    },
    {
      "cell_type": "markdown",
      "metadata": {
        "id": "2q2Kg-WiC4VN"
      },
      "source": [
        "in the following cell try to implemet it by yourself"
      ]
    },
    {
      "cell_type": "code",
      "execution_count": 11,
      "metadata": {
        "colab": {
          "base_uri": "https://localhost:8080/",
          "height": 130
        },
        "id": "8ggRFqlPCDSI",
        "outputId": "06ce9051-c6d6-4a6f-fd06-2571e9294b6c"
      },
      "outputs": [],
      "source": [
        "def sigmoid(z):\n",
        "   #z = wx+b\n",
        "   #g_z is the sigmoid of z\n",
        "   g_z=1/(1+np.exp(-z))\n",
        "   return g_z\n"
      ]
    },
    {
      "cell_type": "markdown",
      "metadata": {
        "id": "aXcsS4e2FeMP"
      },
      "source": [
        "try testing a few values by calling sigmoid(x) in the cell below.\n",
        " \n",
        "\n",
        "*   large positive values of x, the sigmoid should be close to 1\n",
        "*   large negative values, the sigmoid should be close to 0\n",
        "*   sigmoid(0) should give you exactly 0.5"
      ]
    },
    {
      "cell_type": "code",
      "execution_count": 12,
      "metadata": {
        "id": "_IDerITyFvl2"
      },
      "outputs": [
        {
          "name": "stdout",
          "output_type": "stream",
          "text": [
            "sigmoid(-3) = 0.04742587317756678\n"
          ]
        }
      ],
      "source": [
        "num = -3\n",
        "print (\"sigmoid({}) = \".format(num) + str(sigmoid(num)))"
      ]
    },
    {
      "cell_type": "markdown",
      "metadata": {
        "id": "jmayo0b9tL-z"
      },
      "source": [
        "Your code should also work with vectors and matrices. For a matrix, your function should perform the sigmoid function on every element"
      ]
    },
    {
      "cell_type": "code",
      "execution_count": 13,
      "metadata": {
        "id": "CIJZqx4PtPdv"
      },
      "outputs": [
        {
          "name": "stdout",
          "output_type": "stream",
          "text": [
            "sigmoid([ -1, 0, 1, 2]) = [0.26894142 0.5        0.73105858 0.88079708]\n"
          ]
        }
      ],
      "source": [
        "print (\"sigmoid([ -1, 0, 1, 2]) = \" + str(sigmoid(np.array([-1, 0, 1, 2]))))"
      ]
    },
    {
      "cell_type": "markdown",
      "metadata": {
        "id": "AWkSd9d0ww_h"
      },
      "source": [
        "**Expected Output:** `sigmoid([ -1, 0, 1, 2]) = [0.26894142 0.5        0.73105858 0.88079708]`"
      ]
    },
    {
      "cell_type": "markdown",
      "metadata": {
        "id": "IglrW_bWG9ww"
      },
      "source": [
        "## **Cost function for logistic regression**"
      ]
    },
    {
      "cell_type": "markdown",
      "metadata": {
        "id": "DGGrA1ABHTh7"
      },
      "source": [
        "Recall that the cost function of logistic regression is\n",
        "\n",
        "![image.png](data:image/png;base64,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)"
      ]
    },
    {
      "cell_type": "markdown",
      "metadata": {
        "id": "skcYDyJnJgVp"
      },
      "source": [
        "Implement the cost function in the following cell"
      ]
    },
    {
      "cell_type": "code",
      "execution_count": 14,
      "metadata": {
        "id": "V108rQd1rRZR"
      },
      "outputs": [],
      "source": [
        "def compute_cost(X, y, w, b):\n",
        "    \"\"\"\n",
        "    Computes the cost over all examples\n",
        "    Args:\n",
        "      X : (ndarray Shape (m,n)) data, m examples by n features\n",
        "      y : (array_like Shape (m,)) target value \n",
        "      w : (array_like Shape (n,)) Values of parameters of the model      \n",
        "      b : scalar Values of bias parameter of the model\n",
        "    Returns:\n",
        "      cost: (scalar)         cost \n",
        "    \"\"\"\n",
        "\n",
        "    m, n = X.shape\n",
        "    f=sigmoid(np.dot(X,w)+b)\n",
        "    cost_pt1=np.dot(y.T,(np.log(f)))\n",
        "    cost_pt2=np.dot((1-y).T,(np.log(1-f)))\n",
        "    cost=(np.sum((cost_pt1+cost_pt2)))/-m\n",
        "    \n",
        "\n",
        "    return cost"
      ]
    },
    {
      "cell_type": "code",
      "execution_count": null,
      "metadata": {
        "id": "MnP6f0Xpxcqo"
      },
      "outputs": [],
      "source": []
    },
    {
      "cell_type": "markdown",
      "metadata": {
        "id": "kXcBqpSBuBQm"
      },
      "source": [
        "testing the cost implementation using w=0 and b=0"
      ]
    },
    {
      "cell_type": "code",
      "execution_count": 15,
      "metadata": {
        "id": "sMs9hm-EuG0e"
      },
      "outputs": [
        {
          "name": "stdout",
          "output_type": "stream",
          "text": [
            "cost = 0.6931471805599452\n"
          ]
        }
      ],
      "source": [
        "m, n = X_train.shape\n",
        "\n",
        "#initialize w and b with zeros\n",
        "zero_w = np.zeros(n)\n",
        "zero_b = 0.0\n",
        "cost = compute_cost(X_train, y_train, zero_w, zero_b)\n",
        "print(\"cost = {}\".format(cost))"
      ]
    },
    {
      "cell_type": "markdown",
      "metadata": {
        "id": "JxIEeGRSU-il"
      },
      "source": [
        "**Expected Output:** \n",
        "\n",
        "```\n",
        "cost = 0.6931471805599456\n",
        "```\n"
      ]
    },
    {
      "cell_type": "markdown",
      "metadata": {
        "id": "8wviw-bHJ9zU"
      },
      "source": [
        "## **Gradient descent for logistic regression**"
      ]
    },
    {
      "cell_type": "markdown",
      "metadata": {
        "id": "dEn91w1eL9ci"
      },
      "source": [
        "In the following cell implement a function that computes the gradients of the cost with respect to weights and bias"
      ]
    },
    {
      "cell_type": "code",
      "execution_count": 16,
      "metadata": {
        "id": "DHtOCIIhKCV6"
      },
      "outputs": [],
      "source": [
        "def compute_gradient(X,y,w,b):\n",
        "  m, n = X.shape\n",
        "  #initialize dj_dw and dj_db a zeros\n",
        "  dj_dw = np.zeros(w.shape)\n",
        "  dj_db = 0.\n",
        "  f=sigmoid(np.dot(X,w))\n",
        "  dj_dw=np.sum(np.dot(X.T,(f-y)))/m\n",
        "  dj_db=np.sum((f-y))/m\n",
        "\n",
        "\n",
        "  return dj_dw, dj_db"
      ]
    },
    {
      "cell_type": "markdown",
      "metadata": {
        "id": "baCD23x_KM2A"
      },
      "source": [
        "We intalize the values of w and b randomly them optimize them using gradient descent as follows:\n",
        "![image.png](data:image/png;base64,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)"
      ]
    },
    {
      "cell_type": "markdown",
      "metadata": {
        "id": "1UO9fYoTKY6i"
      },
      "source": [
        "In the following cell try to implement gradient descent for logistic regression"
      ]
    },
    {
      "cell_type": "code",
      "execution_count": 17,
      "metadata": {
        "id": "9NB3VL1f1Om0"
      },
      "outputs": [],
      "source": [
        "def gradient_descent(X, y, w_in, b_in, cost_function, gradient_function, alpha, num_iters):\n",
        "    # number of training examples\n",
        "    m = len(X)\n",
        "    J_history = []\n",
        "\n",
        "    for i in range(num_iters):\n",
        "        # Calculate the gradient and update the parameters\n",
        "        dj_db, dj_dw = compute_gradient(X, y, w_in, b_in)   \n",
        "\n",
        "        # Update Parameters using w, b, alpha and gradient\n",
        "        w_in =    w_in-(alpha*dj_dw)\n",
        "        b_in =    b_in-(alpha*dj_db)\n",
        "\n",
        "        # Save cost J at each iteration\n",
        "        if i < 100000:\n",
        "            cost = cost_function(X, y, w_in, b_in)\n",
        "            J_history.append(cost)\n",
        "            if i % 10 == 0 and i < 100000 - 10:\n",
        "                print(\"cost = {}\".format(cost))\n",
        "        \n",
        "\n",
        "    return w_in, b_in, J_history\n"
      ]
    },
    {
      "cell_type": "markdown",
      "metadata": {
        "id": "HUWY2nlugq1F"
      },
      "source": [
        "Run the following 2 cells without modifications\n",
        "\n"
      ]
    },
    {
      "cell_type": "code",
      "execution_count": 18,
      "metadata": {
        "id": "8ndkA12aaDWH"
      },
      "outputs": [
        {
          "name": "stdout",
          "output_type": "stream",
          "text": [
            "cost = 4.798166560968349\n",
            "cost = 4.779395220326394\n",
            "cost = 4.760696740368213\n",
            "cost = 4.742071119398995\n",
            "cost = 4.723518351993436\n",
            "cost = 4.705038428997177\n",
            "cost = 4.686631337529304\n",
            "cost = 4.668297060985912\n",
            "cost = 4.650035579044717\n",
            "cost = 4.631846867670758\n",
            "cost = 4.613730899123131\n",
            "cost = 4.595687641962802\n",
            "cost = 4.577717061061465\n",
            "cost = 4.559819117611473\n",
            "cost = 4.5419937691367895\n",
            "cost = 4.524240969505018\n",
            "cost = 4.506560668940448\n",
            "cost = 4.488952814038141\n",
            "cost = 4.471417347779053\n",
            "cost = 4.453954209546165\n",
            "cost = 4.436563335141626\n",
            "cost = 4.419244656804905\n",
            "cost = 4.401998103231926\n",
            "cost = 4.38482359959519\n",
            "cost = 4.367721067564866\n",
            "cost = 4.350690425330837\n",
            "cost = 4.333731587625705\n",
            "cost = 4.316844465748703\n",
            "cost = 4.300028967590558\n",
            "cost = 4.28328499765923\n",
            "cost = 4.266612457106562\n",
            "cost = 4.250011243755788\n",
            "cost = 4.2334812521299074\n",
            "cost = 4.217022373480903\n",
            "cost = 4.200634495819775\n",
            "cost = 4.184317503947384\n",
            "cost = 4.1680712794860835\n",
            "cost = 4.151895700912121\n",
            "cost = 4.135790643588793\n",
            "cost = 4.119755979800325\n",
            "cost = 4.103791578786462\n",
            "cost = 4.087897306777756\n",
            "cost = 4.07207302703152\n",
            "cost = 4.056318599868426\n",
            "cost = 4.040633882709747\n",
            "cost = 4.025018730115177\n",
            "cost = 4.009472993821274\n",
            "cost = 3.99399652278042\n",
            "cost = 3.9785891632003696\n",
            "cost = 3.963250758584279\n",
            "cost = 3.947981149771246\n",
            "cost = 3.9327801749773252\n",
            "cost = 3.917647669836991\n",
            "cost = 3.902583467445021\n",
            "cost = 3.8875873983987916\n",
            "cost = 3.872659290840955\n",
            "cost = 3.857798970502472\n",
            "cost = 3.8430062607459816\n",
            "cost = 3.828280982609484\n",
            "cost = 3.8136229548503082\n",
            "cost = 3.799031993989358\n",
            "cost = 3.784507914355595\n",
            "cost = 3.7700505281307413\n",
            "cost = 3.7556596453941866\n",
            "cost = 3.741335074168071\n",
            "cost = 3.7270766204625287\n",
            "cost = 3.7128840883210543\n",
            "cost = 3.6987572798659856\n",
            "cost = 3.6846959953440845\n",
            "cost = 3.6707000331721735\n",
            "cost = 3.6567691899828363\n",
            "cost = 3.6429032606701264\n",
            "cost = 3.6291020384353048\n",
            "cost = 3.6153653148325473\n",
            "cost = 3.601692879814628\n",
            "cost = 3.588084521778552\n",
            "cost = 3.574540027611114\n",
            "cost = 3.561059182734369\n",
            "cost = 3.5476417711509898\n",
            "cost = 3.534287575489511\n",
            "cost = 3.520996377049417\n",
            "cost = 3.507767955846076\n",
            "cost = 3.494602090655499\n",
            "cost = 3.4814985590589025\n",
            "cost = 3.468457137487051\n",
            "cost = 3.4554776012643993\n",
            "cost = 3.4425597246529724\n",
            "cost = 3.429703280895999\n",
            "cost = 3.416908042261278\n",
            "cost = 3.4041737800842577\n",
            "cost = 3.3915002648108192\n",
            "cost = 3.378887266039757\n",
            "cost = 3.3663345525649313\n",
            "cost = 3.353841892417086\n",
            "cost = 3.3414090529053255\n",
            "cost = 3.329035800658237\n",
            "cost = 3.316721901664633\n",
            "cost = 3.304467121313936\n",
            "cost = 3.2922712244361554\n",
            "cost = 3.280133975341483\n",
            "cost = 3.2680551378594713\n",
            "cost = 3.256034475377805\n",
            "cost = 3.2440717508806456\n",
            "cost = 3.232166726986544\n",
            "cost = 3.2203191659859245\n",
            "cost = 3.208528829878105\n",
            "cost = 3.1967954804078897\n",
            "cost = 3.1851188791016805\n",
            "cost = 3.1734987873031413\n",
            "cost = 3.1619349662083884\n",
            "cost = 3.1504271769007004\n",
            "cost = 3.138975180384761\n",
            "cost = 3.127578737620408\n",
            "cost = 3.1162376095558972\n",
            "cost = 3.1049515571606836\n",
            "cost = 3.0937203414576984\n",
            "cost = 3.082543723555132\n",
            "cost = 3.0714214646777194\n",
            "cost = 3.0603533261975207\n",
            "cost = 3.0493390696641973\n",
            "cost = 3.038378456834788\n",
            "cost = 3.027471249702962\n",
            "cost = 3.016617210527785\n",
            "cost = 3.005816101861956\n",
            "cost = 2.995067686579546\n",
            "cost = 2.984371727903217\n",
            "cost = 2.9737279894309405\n",
            "cost = 2.9631362351621924\n",
            "cost = 2.9525962295236488\n",
            "cost = 2.9421077373943594\n",
            "cost = 2.931670524130427\n",
            "cost = 2.9212843555891643\n",
            "cost = 2.9109489981527443\n",
            "cost = 2.9006642187513565\n",
            "cost = 2.8904297848858422\n",
            "cost = 2.880245464649839\n",
            "cost = 2.8701110267514176\n",
            "cost = 2.8600262405342174\n",
            "cost = 2.8499908759980928\n",
            "cost = 2.8400047038192495\n",
            "cost = 2.8300674953699074\n",
            "cost = 2.820179022737455\n",
            "cost = 2.8103390587431276\n",
            "cost = 2.8005473769601936\n",
            "cost = 2.790803751731659\n",
            "cost = 2.781107958187497\n",
            "cost = 2.7714597722613967\n",
            "cost = 2.76185897070704\n",
            "cost = 2.7523053311139067\n",
            "cost = 2.7427986319226116\n",
            "cost = 2.7333386524397842\n",
            "cost = 2.7239251728524776\n",
            "cost = 2.7145579742421275\n",
            "cost = 2.705236838598059\n",
            "cost = 2.695961548830532\n",
            "cost = 2.686731888783358\n",
            "cost = 2.677547643246055\n",
            "cost = 2.668408597965576\n",
            "cost = 2.659314539657598\n",
            "cost = 2.650265256017376\n",
            "cost = 2.641260535730172\n",
            "cost = 2.632300168481263\n",
            "cost = 2.623383944965516\n",
            "cost = 2.614511656896557\n",
            "cost = 2.60568309701553\n",
            "cost = 2.596898059099428\n",
            "cost = 2.5881563379690418\n",
            "cost = 2.5794577294964864\n",
            "cost = 2.5708020306123456\n",
            "cost = 2.5621890393124085\n",
            "cost = 2.5536185546640304\n",
            "cost = 2.545090376812093\n",
            "cost = 2.5366043069845903\n",
            "cost = 2.528160147497832\n",
            "cost = 2.519757701761275\n",
            "cost = 2.5113967742819803\n",
            "cost = 2.503077170668708\n",
            "cost = 2.4947986976356353\n",
            "cost = 2.4865611630057356\n",
            "cost = 2.478364375713781\n",
            "cost = 2.470208145809004\n",
            "cost = 2.4620922844574142\n",
            "cost = 2.4540166039437574\n",
            "cost = 2.445980917673142\n",
            "cost = 2.4379850401723315\n",
            "cost = 2.4300287870907\n",
            "cost = 2.4221119752008553\n",
            "cost = 2.4142344223989385\n",
            "cost = 2.4063959477046084\n",
            "cost = 2.3985963712607004\n",
            "cost = 2.3908355143325744\n",
            "cost = 2.3831131993071475\n",
            "cost = 2.375429249691634\n",
            "cost = 2.367783490111966\n",
            "cost = 2.360175746310928\n",
            "cost = 2.35260584514599\n",
            "cost = 2.3450736145868563\n",
            "cost = 2.3375788837127205\n",
            "cost = 2.3301214827092394\n",
            "cost = 2.3227012428652403\n",
            "cost = 2.315317996569132\n",
            "cost = 2.3079715773050635\n",
            "cost = 2.300661819648812\n",
            "cost = 2.2933885592633976\n",
            "cost = 2.28615163289446\n",
            "cost = 2.278950878365364\n",
            "cost = 2.271786134572064\n",
            "cost = 2.2646572414777206\n",
            "cost = 2.2575640401070793\n",
            "cost = 2.250506372540607\n",
            "cost = 2.243484081908404\n",
            "cost = 2.236497012383883\n",
            "cost = 2.2295450091772286\n",
            "cost = 2.222627918528635\n",
            "cost = 2.2157455877013352\n",
            "cost = 2.208897864974416\n",
            "cost = 2.2020845996354366\n",
            "cost = 2.195305641972833\n",
            "cost = 2.1885608432681534\n",
            "cost = 2.181850055788077\n",
            "cost = 2.1751731327762682\n",
            "cost = 2.168529928445043\n",
            "cost = 2.1619202979668617\n",
            "cost = 2.1553440974656595\n",
            "cost = 2.1488011840080086\n",
            "cost = 2.14229141559412\n",
            "cost = 2.135814651148701\n",
            "cost = 2.1293707505116566\n",
            "cost = 2.12295957442866\n",
            "cost = 2.116580984541577\n",
            "cost = 2.110234843378769\n",
            "cost = 2.103921014345267\n",
            "cost = 2.097639361712825\n",
            "cost = 2.091389750609875\n",
            "cost = 2.0851720470113575\n",
            "cost = 2.078986117728456\n",
            "cost = 2.072831830398246\n",
            "cost = 2.0667090534732524\n",
            "cost = 2.0606176562109133\n",
            "cost = 2.054557508662987\n",
            "cost = 2.0485284816648694\n",
            "cost = 2.0425304468248635\n",
            "cost = 2.0365632765133794\n",
            "cost = 2.030626843852097\n",
            "cost = 2.024721022703065\n",
            "cost = 2.018845687657784\n",
            "cost = 2.0130007140262354\n",
            "cost = 2.0071859778259027\n",
            "cost = 2.001401355770758\n",
            "cost = 1.995646725260253\n",
            "cost = 1.9899219643682833\n",
            "cost = 1.9842269518321687\n",
            "cost = 1.9785615670416312\n",
            "cost = 1.972925690027786\n",
            "cost = 1.9673192014521537\n",
            "cost = 1.9617419825956954\n",
            "cost = 1.956193915347877\n",
            "cost = 1.9506748821957747\n",
            "cost = 1.9451847662132231\n",
            "cost = 1.939723451050003\n",
            "cost = 1.9342908209211007\n",
            "cost = 1.9288867605960143\n",
            "cost = 1.9235111553881334\n",
            "cost = 1.9181638911441894\n",
            "cost = 1.9128448542337846\n",
            "cost = 1.9075539315390049\n",
            "cost = 1.9022910104441209\n",
            "cost = 1.8970559788253847\n",
            "cost = 1.891848725040925\n",
            "cost = 1.8866691379207474\n",
            "cost = 1.8815171067568486\n",
            "cost = 1.8763925212934336\n",
            "cost = 1.8712952717172677\n",
            "cost = 1.8662252486481414\n",
            "cost = 1.861182343129467\n",
            "cost = 1.8561664466190106\n",
            "cost = 1.8511774509797512\n",
            "cost = 1.8462152484708994\n",
            "cost = 1.8412797317390388\n",
            "cost = 1.8363707938094316\n",
            "cost = 1.8314883280774694\n",
            "cost = 1.8266322283002807\n",
            "cost = 1.8218023885884953\n",
            "cost = 1.816998703398174\n",
            "cost = 1.812221067522899\n",
            "cost = 1.8074693760860268\n",
            "cost = 1.8027435245331251\n",
            "cost = 1.7980434086245662\n",
            "cost = 1.7933689244283006\n",
            "cost = 1.7887199683128057\n",
            "cost = 1.7840964369402124\n",
            "cost = 1.7794982272596065\n",
            "cost = 1.7749252365005213\n",
            "cost = 1.770377362166597\n",
            "cost = 1.7658545020294345\n",
            "cost = 1.7613565541226244\n",
            "cost = 1.7568834167359668\n",
            "cost = 1.7524349884098716\n",
            "cost = 1.7480111679299442\n",
            "cost = 1.7436118543217538\n",
            "cost = 1.7392369468457969\n",
            "cost = 1.7348863449926282\n",
            "cost = 1.7305599484781922\n",
            "cost = 1.7262576572393296\n",
            "cost = 1.721979371429467\n",
            "cost = 1.7177249914144934\n",
            "cost = 1.7134944177688163\n",
            "cost = 1.7092875512715895\n",
            "cost = 1.705104292903138\n",
            "cost = 1.7009445438415376\n",
            "cost = 1.6968082054593912\n",
            "cost = 1.6926951793207614\n",
            "cost = 1.6886053671782904\n",
            "cost = 1.6845386709704797\n",
            "cost = 1.6804949928191397\n",
            "cost = 1.6764742350270083\n",
            "cost = 1.6724763000755338\n",
            "cost = 1.6685010906228144\n",
            "cost = 1.664548509501697\n",
            "cost = 1.6606184597180385\n",
            "cost = 1.6567108444491137\n",
            "cost = 1.6528255670421756\n",
            "cost = 1.6489625310131664\n",
            "cost = 1.6451216400455668\n",
            "cost = 1.6413027979893986\n",
            "cost = 1.6375059088603527\n",
            "cost = 1.6337308768390628\n",
            "cost = 1.6299776062705074\n",
            "cost = 1.6262460016635454\n",
            "cost = 1.622535967690571\n",
            "cost = 1.618847409187299\n",
            "cost = 1.615180231152662\n",
            "cost = 1.6115343387488352\n",
            "cost = 1.607909637301363\n",
            "cost = 1.6043060322994003\n",
            "cost = 1.6007234293960604\n",
            "cost = 1.5971617344088644\n",
            "cost = 1.5936208533202918\n",
            "cost = 1.5901006922784262\n",
            "cost = 1.5866011575976917\n",
            "cost = 1.5831221557596833\n",
            "cost = 1.57966359341408\n",
            "cost = 1.5762253773796402\n",
            "cost = 1.57280741464528\n",
            "cost = 1.5694096123712225\n",
            "cost = 1.566031877890223\n",
            "cost = 1.562674118708864\n",
            "cost = 1.5593362425089141\n",
            "cost = 1.5560181571487521\n",
            "cost = 1.5527197706648495\n",
            "cost = 1.5494409912733107\n",
            "cost = 1.5461817273714664\n",
            "cost = 1.542941887539518\n",
            "cost = 1.5397213805422283\n",
            "cost = 1.5365201153306571\n",
            "cost = 1.5333380010439428\n",
            "cost = 1.5301749470111143\n",
            "cost = 1.5270308627529487\n",
            "cost = 1.5239056579838546\n",
            "cost = 1.5207992426137895\n",
            "cost = 1.5177115267502062\n",
            "cost = 1.5146424207000215\n",
            "cost = 1.511591834971611\n",
            "cost = 1.5085596802768222\n",
            "cost = 1.5055458675330058\n",
            "cost = 1.5025503078650633\n",
            "cost = 1.4995729126075077\n",
            "cost = 1.4966135933065372\n",
            "cost = 1.493672261722113\n",
            "cost = 1.4907488298300493\n",
            "cost = 1.4878432098241041\n",
            "cost = 1.4849553141180767\n",
            "cost = 1.4820850553478997\n",
            "cost = 1.47923234637374\n",
            "cost = 1.4763971002820857\n",
            "cost = 1.4735792303878372\n",
            "cost = 1.4707786502363869\n",
            "cost = 1.467995273605693\n",
            "cost = 1.4652290145083444\n",
            "cost = 1.462479787193613\n",
            "cost = 1.4597475061494942\n",
            "cost = 1.457032086104732\n",
            "cost = 1.4543334420308336\n",
            "cost = 1.4516514891440615\n",
            "cost = 1.4489861429074116\n",
            "cost = 1.4463373190325712\n",
            "cost = 1.4437049334818568\n",
            "cost = 1.44108890247013\n",
            "cost = 1.4384891424666937\n",
            "cost = 1.4359055701971606\n",
            "cost = 1.4333381026453031\n",
            "cost = 1.4307866570548728\n",
            "cost = 1.4282511509313978\n",
            "cost = 1.4257315020439525\n",
            "cost = 1.4232276284268972\n",
            "cost = 1.4207394483815927\n",
            "cost = 1.4182668804780876\n",
            "cost = 1.4158098435567688\n",
            "cost = 1.41336825672999\n",
            "cost = 1.410942039383666\n",
            "cost = 1.4085311111788357\n",
            "cost = 1.4061353920531925\n",
            "cost = 1.4037548022225874\n",
            "cost = 1.4013892621824924\n",
            "cost = 1.399038692709438\n",
            "cost = 1.3967030148624144\n",
            "cost = 1.3943821499842384\n",
            "cost = 1.392076019702888\n",
            "cost = 1.3897845459328044\n",
            "cost = 1.3875076508761564\n",
            "cost = 1.3852452570240714\n",
            "cost = 1.3829972871578382\n",
            "cost = 1.3807636643500643\n",
            "cost = 1.3785443119658067\n",
            "cost = 1.3763391536636655\n",
            "cost = 1.3741481133968432\n",
            "cost = 1.371971115414165\n",
            "cost = 1.3698080842610734\n",
            "cost = 1.3676589447805791\n",
            "cost = 1.3655236221141813\n",
            "cost = 1.3634020417027521\n",
            "cost = 1.3612941292873877\n",
            "cost = 1.3591998109102237\n",
            "cost = 1.3571190129152142\n",
            "cost = 1.3550516619488833\n",
            "cost = 1.3529976849610346\n",
            "cost = 1.35095700920543\n",
            "cost = 1.348929562240436\n",
            "cost = 1.3469152719296342\n",
            "cost = 1.3449140664424\n",
            "cost = 1.3429258742544474\n",
            "cost = 1.34095062414834\n",
            "cost = 1.338988245213971\n",
            "cost = 1.3370386668490086\n",
            "cost = 1.3351018187593124\n",
            "cost = 1.333177630959313\n",
            "cost = 1.331266033772366\n",
            "cost = 1.3293669578310694\n",
            "cost = 1.3274803340775505\n",
            "cost = 1.325606093763728\n",
            "cost = 1.3237441684515334\n",
            "cost = 1.3218944900131133\n",
            "cost = 1.3200569906309918\n",
            "cost = 1.3182316027982102\n",
            "cost = 1.3164182593184366\n",
            "cost = 1.314616893306042\n",
            "cost = 1.3128274381861553\n",
            "cost = 1.3110498276946834\n",
            "cost = 1.3092839958783071\n",
            "cost = 1.3075298770944492\n",
            "cost = 1.3057874060112156\n",
            "cost = 1.3040565176073065\n",
            "cost = 1.3023371471719085\n",
            "cost = 1.3006292303045512\n",
            "cost = 1.2989327029149473\n",
            "cost = 1.297247501222802\n",
            "cost = 1.2955735617575972\n",
            "cost = 1.2939108213583546\n",
            "cost = 1.2922592171733742\n",
            "cost = 1.2906186866599447\n",
            "cost = 1.2889891675840366\n",
            "cost = 1.2873705980199661\n",
            "cost = 1.2857629163500435\n",
            "cost = 1.2841660612641936\n",
            "cost = 1.282579971759554\n",
            "cost = 1.281004587140059\n",
            "cost = 1.279439847015992\n",
            "cost = 1.2778856913035268\n",
            "cost = 1.2763420602242421\n",
            "cost = 1.2748088943046176\n",
            "cost = 1.2732861343755133\n",
            "cost = 1.2717737215716252\n",
            "cost = 1.2702715973309247\n",
            "cost = 1.2687797033940786\n",
            "cost = 1.2672979818038526\n",
            "cost = 1.2658263749044931\n",
            "cost = 1.264364825341095\n",
            "cost = 1.2629132760589536\n",
            "cost = 1.2614716703028925\n",
            "cost = 1.2600399516165846\n",
            "cost = 1.2586180638418507\n",
            "cost = 1.2572059511179439\n",
            "cost = 1.2558035578808178\n",
            "cost = 1.254410828862384\n",
            "cost = 1.2530277090897486\n",
            "cost = 1.2516541438844382\n",
            "cost = 1.2502900788616116\n",
            "cost = 1.248935459929256\n",
            "cost = 1.247590233287372\n",
            "cost = 1.246254345427143\n",
            "cost = 1.244927743130096\n",
            "cost = 1.2436103734672441\n",
            "cost = 1.2423021837982227\n",
            "cost = 1.241003121770409\n",
            "cost = 1.2397131353180346\n",
            "cost = 1.2384321726612824\n",
            "cost = 1.2371601823053762\n",
            "cost = 1.2358971130396577\n",
            "cost = 1.2346429139366524\n",
            "cost = 1.2333975343511303\n",
            "cost = 1.2321609239191482\n",
            "cost = 1.230933032557092\n",
            "cost = 1.2297138104607044\n",
            "cost = 1.2285032081041023\n",
            "cost = 1.2273011762387906\n",
            "cost = 1.2261076658926657\n",
            "cost = 1.2249226283690073\n",
            "cost = 1.2237460152454667\n",
            "cost = 1.2225777783730465\n",
            "cost = 1.2214178698750726\n",
            "cost = 1.2202662421461576\n",
            "cost = 1.2191228478511615\n",
            "cost = 1.2179876399241396\n",
            "cost = 1.2168605715672904\n",
            "cost = 1.2157415962498943\n",
            "cost = 1.2146306677072443\n",
            "cost = 1.2135277399395765\n",
            "cost = 1.2124327672109911\n",
            "cost = 1.2113457040483673\n",
            "cost = 1.2102665052402783\n",
            "cost = 1.2091951258358966\n",
            "cost = 1.2081315211438957\n",
            "cost = 1.2070756467313501\n",
            "cost = 1.206027458422629\n",
            "cost = 1.2049869122982855\n",
            "cost = 1.2039539646939441\n",
            "cost = 1.2029285721991831\n",
            "cost = 1.201910691656413\n",
            "cost = 1.200900280159756\n",
            "cost = 1.1998972950539157\n",
            "cost = 1.1989016939330506\n",
            "cost = 1.1979134346396412\n",
            "cost = 1.1969324752633557\n",
            "cost = 1.1959587741399136\n",
            "cost = 1.1949922898499468\n",
            "cost = 1.19403298121786\n",
            "cost = 1.1930808073106862\n",
            "cost = 1.1921357274369468\n",
            "cost = 1.1911977011455024\n",
            "cost = 1.1902666882244086\n",
            "cost = 1.1893426486997691\n",
            "cost = 1.1884255428345851\n",
            "cost = 1.1875153311276074\n",
            "cost = 1.1866119743121866\n",
            "cost = 1.1857154333551225\n",
            "cost = 1.1848256694555128\n",
            "cost = 1.1839426440436036\n",
            "cost = 1.183066318779637\n",
            "cost = 1.1821966555527008\n",
            "cost = 1.1813336164795774\n",
            "cost = 1.1804771639035936\n",
            "cost = 1.1796272603934703\n",
            "cost = 1.178783868742173\n",
            "cost = 1.1779469519657642\n",
            "cost = 1.1771164733022528\n",
            "cost = 1.1762923962104488\n",
            "cost = 1.1754746843688182\n",
            "cost = 1.1746633016743346\n",
            "cost = 1.1738582122413397\n",
            "cost = 1.173059380400397\n",
            "cost = 1.172266770697154\n",
            "cost = 1.171480347891201\n",
            "cost = 1.1707000769549336\n",
            "cost = 1.1699259230724173\n",
            "cost = 1.1691578516382535\n",
            "cost = 1.1683958282564457\n",
            "cost = 1.1676398187392714\n",
            "cost = 1.1668897891061518\n",
            "cost = 1.166145705582528\n",
            "cost = 1.165407534598736\n",
            "cost = 1.164675242788886\n",
            "cost = 1.163948796989744\n",
            "cost = 1.1632281642396132\n",
            "cost = 1.1625133117772237\n",
            "cost = 1.1618042070406196\n",
            "cost = 1.16110081766605\n",
            "cost = 1.1604031114868643\n",
            "cost = 1.1597110565324094\n",
            "cost = 1.1590246210269313\n",
            "cost = 1.1583437733884758\n",
            "cost = 1.1576684822277976\n",
            "cost = 1.1569987163472677\n",
            "cost = 1.1563344447397865\n",
            "cost = 1.1556756365877012\n",
            "cost = 1.1550222612617242\n",
            "cost = 1.1543742883198544\n",
            "cost = 1.1537316875063048\n",
            "cost = 1.1530944287504317\n",
            "cost = 1.1524624821656677\n",
            "cost = 1.1518358180484585\n",
            "cost = 1.1512144068772008\n",
            "cost = 1.1505982193111899\n",
            "cost = 1.1499872261895647\n",
            "cost = 1.1493813985302597\n",
            "cost = 1.1487807075289596\n",
            "cost = 1.148185124558059\n",
            "cost = 1.1475946211656243\n",
            "cost = 1.1470091690743602\n",
            "cost = 1.1464287401805815\n",
            "cost = 1.1458533065531866\n",
            "cost = 1.1452828404326356\n",
            "cost = 1.1447173142299345\n",
            "cost = 1.1441567005256197\n",
            "cost = 1.1436009720687499\n",
            "cost = 1.1430501017759016\n",
            "cost = 1.1425040627301668\n",
            "cost = 1.1419628281801564\n",
            "cost = 1.1414263715390076\n",
            "cost = 1.140894666383396\n",
            "cost = 1.14036768645255\n",
            "cost = 1.139845405647274\n",
            "cost = 1.1393277980289684\n",
            "cost = 1.138814837818661\n",
            "cost = 1.1383064993960397\n",
            "cost = 1.1378027572984895\n",
            "cost = 1.137303586220134\n",
            "cost = 1.1368089610108818\n",
            "cost = 1.1363188566754767\n",
            "cost = 1.1358332483725528\n",
            "cost = 1.135352111413693\n",
            "cost = 1.1348754212624947\n",
            "cost = 1.1344031535336343\n",
            "cost = 1.1339352839919434\n",
            "cost = 1.1334717885514856\n",
            "cost = 1.133012643274634\n",
            "cost = 1.1325578243711614\n",
            "cost = 1.132107308197329\n",
            "cost = 1.131661071254983\n",
            "cost = 1.1312190901906511\n",
            "cost = 1.1307813417946482\n",
            "cost = 1.1303478030001848\n",
            "cost = 1.129918450882481\n",
            "cost = 1.1294932626578809\n",
            "cost = 1.129072215682978\n",
            "cost = 1.1286552874537388\n",
            "cost = 1.1282424556046364\n",
            "cost = 1.1278336979077843\n",
            "cost = 1.1274289922720764\n",
            "cost = 1.1270283167423327\n",
            "cost = 1.1266316494984479\n",
            "cost = 1.1262389688545438\n",
            "cost = 1.1258502532581292\n",
            "cost = 1.1254654812892608\n",
            "cost = 1.1250846316597123\n",
            "cost = 1.124707683212144\n",
            "cost = 1.12433461491928\n",
            "cost = 1.1239654058830886\n",
            "cost = 1.123600035333967\n",
            "cost = 1.1232384826299313\n",
            "cost = 1.1228807272558101\n",
            "cost = 1.122526748822443\n",
            "cost = 1.1221765270658834\n",
            "cost = 1.1218300418466076\n",
            "cost = 1.1214872731487235\n",
            "cost = 1.1211482010791896\n",
            "cost = 1.1208128058670332\n",
            "cost = 1.1204810678625787\n",
            "cost = 1.1201529675366741\n",
            "cost = 1.1198284854799259\n",
            "cost = 1.119507602401938\n",
            "cost = 1.1191902991305536\n",
            "cost = 1.1188765566111025\n",
            "cost = 1.1185663559056522\n",
            "cost = 1.1182596781922642\n",
            "cost = 1.1179565047642532\n",
            "cost = 1.1176568170294519\n",
            "cost = 1.1173605965094793\n",
            "cost = 1.117067824839014\n",
            "cost = 1.1167784837650725\n",
            "cost = 1.116492555146288\n",
            "cost = 1.116210020952198\n",
            "cost = 1.1159308632625335\n",
            "cost = 1.1156550642665146\n",
            "cost = 1.115382606262147\n",
            "cost = 1.115113471655525\n",
            "cost = 1.11484764296014\n",
            "cost = 1.1145851027961888\n",
            "cost = 1.1143258338898905\n",
            "cost = 1.1140698190728053\n",
            "cost = 1.1138170412811574\n",
            "cost = 1.1135674835551623\n",
            "cost = 1.1133211290383598\n",
            "cost = 1.1130779609769477\n",
            "cost = 1.1128379627191225\n",
            "cost = 1.1126011177144233\n",
            "cost = 1.1123674095130778\n",
            "cost = 1.1121368217653564\n",
            "cost = 1.1119093382209262\n",
            "cost = 1.1116849427282114\n",
            "cost = 1.1114636192337577\n",
            "cost = 1.1112453517815968\n",
            "cost = 1.1110301245126224\n",
            "cost = 1.1108179216639609\n",
            "cost = 1.1106087275683552\n",
            "cost = 1.110402526653544\n",
            "cost = 1.110199303441651\n",
            "cost = 1.109999042548576\n",
            "cost = 1.1098017286833874\n",
            "cost = 1.1096073466477223\n",
            "cost = 1.1094158813351895\n",
            "cost = 1.1092273177307732\n",
            "cost = 1.1090416409102442\n",
            "cost = 1.1088588360395735\n",
            "cost = 1.1086788883743492\n",
            "cost = 1.108501783259197\n",
            "cost = 1.108327506127205\n",
            "cost = 1.1081560424993528\n",
            "cost = 1.1079873779839415\n",
            "cost = 1.1078214982760302\n",
            "cost = 1.1076583891568754\n",
            "cost = 1.107498036493373\n",
            "cost = 1.1073404262375053\n",
            "cost = 1.1071855444257894\n",
            "cost = 1.1070333771787322\n",
            "cost = 1.106883910700285\n",
            "cost = 1.1067371312773064\n",
            "cost = 1.1065930252790233\n",
            "cost = 1.1064515791565017\n",
            "cost = 1.1063127794421126\n",
            "cost = 1.1061766127490098\n",
            "cost = 1.1060430657706066\n",
            "cost = 1.105912125280055\n",
            "cost = 1.1057837781297315\n",
            "cost = 1.1056580112507246\n",
            "cost = 1.105534811652325\n",
            "cost = 1.1054141664215196\n",
            "cost = 1.10529606272249\n",
            "cost = 1.1051804877961116\n",
            "cost = 1.10506742895946\n",
            "cost = 1.104956873605315\n",
            "cost = 1.104848809201674\n",
            "cost = 1.1047432232912642\n",
            "cost = 1.104640103491059\n",
            "cost = 1.1045394374917987\n",
            "cost = 1.1044412130575134\n",
            "cost = 1.10434541802505\n",
            "cost = 1.1042520403035998\n",
            "cost = 1.1041610678742315\n",
            "cost = 1.1040724887894282\n",
            "cost = 1.103986291172624\n",
            "cost = 1.103902463217746\n",
            "cost = 1.1038209931887601\n",
            "cost = 1.1037418694192167\n",
            "cost = 1.1036650803118024\n",
            "cost = 1.1035906143378937\n",
            "cost = 1.103518460037113\n",
            "cost = 1.1034486060168875\n",
            "cost = 1.1033810409520128\n",
            "cost = 1.1033157535842169\n",
            "cost = 1.1032527327217285\n",
            "cost = 1.1031919672388482\n",
            "cost = 1.1031334460755224\n",
            "cost = 1.1030771582369199\n",
            "cost = 1.1030230927930103\n",
            "cost = 1.1029712388781467\n",
            "cost = 1.1029215856906516\n",
            "cost = 1.1028741224924037\n",
            "cost = 1.1028288386084277\n",
            "cost = 1.1027857234264888\n",
            "cost = 1.1027447663966883\n",
            "cost = 1.1027059570310613\n",
            "cost = 1.1026692849031776\n",
            "cost = 1.1026347396477483\n",
            "cost = 1.1026023109602276\n",
            "cost = 1.1025719885964276\n",
            "cost = 1.1025437623721248\n",
            "cost = 1.1025176221626773\n",
            "cost = 1.1024935579026418\n",
            "cost = 1.1024715595853913\n",
            "cost = 1.1024516172627377\n",
            "cost = 1.1024337210445583\n",
            "cost = 1.1024178610984192\n",
            "cost = 1.1024040276492078\n",
            "cost = 1.102392210978763\n",
            "cost = 1.1023824014255108\n",
            "cost = 1.1023745893841002\n",
            "cost = 1.1023687653050418\n",
            "cost = 1.102364919694353\n",
            "cost = 1.1023630431131972\n",
            "cost = 1.102363126177534\n",
            "cost = 1.1023651595577657\n",
            "cost = 1.1023691339783919\n",
            "cost = 1.1023750402176566\n",
            "cost = 1.102382869107211\n",
            "cost = 1.1023926115317684\n",
            "cost = 1.1024042584287632\n",
            "cost = 1.1024178007880174\n",
            "cost = 1.1024332296514014\n",
            "cost = 1.102450536112504\n",
            "cost = 1.1024697113163018\n",
            "cost = 1.102490746458829\n",
            "cost = 1.1025136327868523\n",
            "cost = 1.102538361597548\n",
            "cost = 1.102564924238177\n",
            "cost = 1.1025933121057696\n",
            "cost = 1.1026235166468046\n",
            "cost = 1.1026555293568943\n",
            "cost = 1.1026893417804735\n",
            "cost = 1.1027249455104853\n",
            "cost = 1.1027623321880742\n",
            "cost = 1.1028014935022779\n",
            "cost = 1.1028424211897234\n",
            "cost = 1.1028851070343229\n",
            "cost = 1.1029295428669739\n",
            "cost = 1.1029757205652602\n",
            "cost = 1.1030236320531548\n",
            "cost = 1.1030732693007246\n",
            "cost = 1.1031246243238384\n",
            "cost = 1.103177689183875\n",
            "cost = 1.1032324559874362\n",
            "cost = 1.1032889168860573\n",
            "cost = 1.1033470640759233\n",
            "cost = 1.1034068897975864\n",
            "cost = 1.1034683863356824\n",
            "cost = 1.103531546018654\n",
            "cost = 1.103596361218471\n",
            "cost = 1.1036628243503566\n",
            "cost = 1.1037309278725125\n",
            "cost = 1.1038006642858464\n",
            "cost = 1.103872026133704\n",
            "cost = 1.1039450060015974\n",
            "cost = 1.1040195965169413\n",
            "cost = 1.1040957903487874\n",
            "cost = 1.1041735802075607\n",
            "cost = 1.1042529588447996\n",
            "cost = 1.1043339190528951\n",
            "cost = 1.1044164536648344\n",
            "cost = 1.104500555553944\n",
            "cost = 1.1045862176336354\n",
            "cost = 1.104673432857152\n",
            "cost = 1.1047621942173211\n",
            "cost = 1.1048524947463003\n",
            "cost = 1.104944327515334\n",
            "cost = 1.105037685634504\n",
            "cost = 1.1051325622524888\n",
            "cost = 1.105228950556318\n",
            "cost = 1.1053268437711334\n",
            "cost = 1.1054262351599482\n",
            "cost = 1.1055271180234096\n",
            "cost = 1.105629485699564\n",
            "cost = 1.1057333315636206\n",
            "cost = 1.1058386490277194\n",
            "cost = 1.1059454315406987\n",
            "cost = 1.1060536725878667\n",
            "cost = 1.1061633656907726\n",
            "cost = 1.1062745044069784\n",
            "cost = 1.1063870823298356\n",
            "cost = 1.1065010930882613\n",
            "cost = 1.1066165303465132\n",
            "cost = 1.1067333878039722\n",
            "cost = 1.1068516591949211\n",
            "cost = 1.1069713382883264\n",
            "cost = 1.1070924188876237\n",
            "cost = 1.1072148948305007\n",
            "cost = 1.1073387599886853\n",
            "cost = 1.1074640082677318\n",
            "cost = 1.1075906336068122\n",
            "cost = 1.1077186299785047\n",
            "cost = 1.1078479913885881\n",
            "cost = 1.1079787118758329\n",
            "cost = 1.1081107855117982\n",
            "cost = 1.1082442064006264\n",
            "cost = 1.1083789686788417\n",
            "cost = 1.1085150665151482\n",
            "cost = 1.1086524941102316\n",
            "cost = 1.1087912456965605\n",
            "cost = 1.1089313155381864\n",
            "cost = 1.1090726979305523\n",
            "cost = 1.1092153872002952\n",
            "cost = 1.1093593777050552\n",
            "cost = 1.1095046638332806\n",
            "cost = 1.1096512400040404\n",
            "cost = 1.109799100666833\n",
            "cost = 1.1099482403013992\n",
            "cost = 1.1100986534175346\n",
            "cost = 1.1102503345549042\n",
            "cost = 1.110403278282858\n",
            "cost = 1.1105574792002488\n",
            "cost = 1.1107129319352491\n",
            "cost = 1.110869631145171\n",
            "cost = 1.1110275715162856\n",
            "cost = 1.111186747763647\n",
            "cost = 1.1113471546309126\n",
            "cost = 1.1115087868901692\n",
            "cost = 1.1116716393417565\n",
            "cost = 1.111835706814095\n",
            "cost = 1.112000984163512\n",
            "cost = 1.1121674662740717\n",
            "cost = 1.1123351480574037\n",
            "cost = 1.112504024452536\n",
            "cost = 1.112674090425724\n",
            "cost = 1.1128453409702856\n",
            "cost = 1.1130177711064366\n",
            "cost = 1.1131913758811218\n",
            "cost = 1.1133661503678565\n",
            "cost = 1.113542089666561\n",
            "cost = 1.1137191889034004\n",
            "cost = 1.1138974432306223\n",
            "cost = 1.114076847826401\n",
            "cost = 1.1142573978946753\n",
            "cost = 1.1144390886649946\n",
            "cost = 1.114621915392361\n",
            "cost = 1.1148058733570747\n",
            "cost = 1.11499095786458\n",
            "cost = 1.1151771642453119\n",
            "cost = 1.115364487854543\n",
            "cost = 1.1155529240722362\n",
            "cost = 1.1157424683028894\n",
            "cost = 1.1159331159753905\n",
            "cost = 1.116124862542867\n",
            "cost = 1.116317703482541\n",
            "cost = 1.1165116342955792\n",
            "cost = 1.116706650506953\n",
            "cost = 1.1169027476652889\n",
            "cost = 1.1170999213427306\n",
            "cost = 1.117298167134792\n",
            "cost = 1.1174974806602171\n",
            "cost = 1.1176978575608412\n",
            "cost = 1.1178992935014491\n",
            "cost = 1.1181017841696375\n",
            "cost = 1.1183053252756785\n",
            "cost = 1.1185099125523794\n",
            "cost = 1.1187155417549497\n",
            "cost = 1.1189222086608657\n",
            "cost = 1.119129909069734\n",
            "cost = 1.1193386388031619\n",
            "cost = 1.1195483937046213\n",
            "cost = 1.11975916963932\n",
            "cost = 1.1199709624940684\n",
            "cost = 1.120183768177152\n",
            "cost = 1.1203975826182013\n",
            "cost = 1.120612401768064\n",
            "cost = 1.1208282215986762\n",
            "cost = 1.1210450381029387\n",
            "cost = 1.1212628472945885\n",
            "cost = 1.1214816452080762\n",
            "cost = 1.1217014278984407\n",
            "cost = 1.1219221914411854\n",
            "cost = 1.1221439319321573\n",
            "cost = 1.1223666454874255\n",
            "cost = 1.1225903282431573\n",
            "cost = 1.1228149763555022\n",
            "cost = 1.1230405860004695\n",
            "cost = 1.1232671533738134\n",
            "cost = 1.123494674690912\n",
            "cost = 1.123723146186649\n",
            "cost = 1.1239525641153025\n",
            "cost = 1.1241829247504262\n",
            "cost = 1.1244142243847346\n",
            "cost = 1.1246464593299903\n",
            "cost = 1.1248796259168905\n",
            "cost = 1.1251137204949548\n",
            "cost = 1.1253487394324118\n",
            "cost = 1.125584679116089\n",
            "cost = 1.1258215359513044\n",
            "cost = 1.1260593063617539\n",
            "cost = 1.1262979867894032\n",
            "cost = 1.1265375736943821\n",
            "cost = 1.1267780635548732\n",
            "cost = 1.127019452867007\n",
            "cost = 1.127261738144757\n",
            "cost = 1.127504915919832\n",
            "cost = 1.1277489827415734\n",
            "cost = 1.1279939351768484\n",
            "cost = 1.1282397698099493\n",
            "cost = 1.12848648324249\n",
            "cost = 1.128734072093303\n",
            "cost = 1.1289825329983398\n",
            "cost = 1.129231862610568\n",
            "cost = 1.129482057599873\n",
            "cost = 1.1297331146529568\n",
            "cost = 1.1299850304732404\n",
            "cost = 1.1302378017807668\n",
            "cost = 1.1304914253121006\n",
            "cost = 1.130745897820232\n",
            "cost = 1.1310012160744822\n",
            "cost = 1.1312573768604055\n",
            "cost = 1.1315143769796965\n",
            "cost = 1.1317722132500925\n",
            "cost = 1.1320308825052827\n",
            "cost = 1.1322903815948133\n",
            "cost = 1.1325507073839953\n",
            "cost = 1.1328118567538117\n",
            "cost = 1.1330738266008278\n",
            "cost = 1.1333366138370984\n",
            "cost = 1.1336002153900786\n",
            "cost = 1.1338646282025326\n",
            "cost = 1.1341298492324472\n",
            "cost = 1.1343958754529408\n",
            "cost = 1.1346627038521766\n",
            "cost = 1.134930331433274\n",
            "cost = 1.1351987552142215\n",
            "cost = 1.135467972227794\n",
            "cost = 1.1357379795214624\n",
            "cost = 1.1360087741573102\n",
            "cost = 1.1362803532119492\n",
            "cost = 1.1365527137764337\n",
            "cost = 1.1368258529561792\n",
            "cost = 1.1370997678708785\n",
            "cost = 1.1373744556544163\n"
          ]
        }
      ],
      "source": [
        "np.random.seed(1)\n",
        "initial_w = 0.01 * (np.random.rand(2).reshape(-1,1) - 0.5)\n",
        "initial_b = -8.0\n",
        "\n",
        "\n",
        "# Some gradient descent settings\n",
        "iterations = 10000\n",
        "alpha = 0.005\n",
        "\n",
        "\n",
        "w, b, J_history = gradient_descent(X_train, y_train, initial_w, initial_b, compute_cost, compute_gradient, alpha, iterations)\n"
      ]
    },
    {
      "cell_type": "code",
      "execution_count": 19,
      "metadata": {
        "id": "7xiiFowGaIAr"
      },
      "outputs": [
        {
          "data": {
            "image/png": "[encoded data removed]",
            "text/plain": [
              "<Figure size 640x480 with 1 Axes>"
            ]
          },
          "metadata": {},
          "output_type": "display_data"
        }
      ],
      "source": [
        "# Visualize the cost against time\n",
        "plt.plot(range(iterations), np.squeeze(J_history))\n",
        "plt.xlabel('Iterations')\n",
        "plt.ylabel('Cost')\n",
        "plt.title('Cost vs. Time')\n",
        "plt.show()"
      ]
    },
    {
      "cell_type": "markdown",
      "metadata": {
        "id": "k7M_Bd8zhd21"
      },
      "source": [
        "In the following cell write a function that predicts the labels of X_train using the values of w and b to calculate the training accuracy"
      ]
    },
    {
      "cell_type": "code",
      "execution_count": 20,
      "metadata": {},
      "outputs": [],
      "source": [
        "def predict(X, w, b): \n",
        "    \"\"\"\n",
        "    Predict whether the label is 0 or 1 using learned logistic\n",
        "    regression parameters w\n",
        "    \n",
        "    Args:\n",
        "    X : (ndarray Shape (m, n))\n",
        "    w : (array_like Shape (n,))      Parameters of the model\n",
        "    b : (scalar, float)              Parameter of the model\n",
        "\n",
        "    Returns:\n",
        "    p: (ndarray (m,1))\n",
        "        The predictions for X using a threshold at 0.5\n",
        "    \"\"\"\n",
        "    # number of training examples\n",
        "    m, n = X.shape   \n",
        "    p = np.zeros(m)\n",
        "   \n",
        "    #write your code here\n",
        "\n",
        "    # Calculate the prediction from the model\n",
        "    f_wb = sigmoid(np.dot(X,w)+b)\n",
        "    p = f_wb >=0.5\n",
        "        \n",
        "    return p"
      ]
    },
    {
      "cell_type": "code",
      "execution_count": null,
      "metadata": {},
      "outputs": [],
      "source": []
    },
    {
      "cell_type": "code",
      "execution_count": 21,
      "metadata": {
        "id": "bBjfe88x-x6K"
      },
      "outputs": [
        {
          "name": "stdout",
          "output_type": "stream",
          "text": [
            "Training Accuracy: 0.7\n"
          ]
        }
      ],
      "source": [
        "y_pred = predict(X_train, w, b)\n",
        "accuracy = accuracy_score(y_train, y_pred)\n",
        "print(f\"Training Accuracy: {accuracy}\")"
      ]
    },
    {
      "cell_type": "markdown",
      "metadata": {
        "id": "GsHykWhSiLAG"
      },
      "source": [
        "Now try using the same function \"Predict\" to predict the labels of X_test to calculate the test accuracy"
      ]
    },
    {
      "cell_type": "code",
      "execution_count": 22,
      "metadata": {
        "id": "ysxDpFrdG11g"
      },
      "outputs": [
        {
          "name": "stdout",
          "output_type": "stream",
          "text": [
            "Test Accuracy: 0.7\n"
          ]
        }
      ],
      "source": [
        "y_pred=predict(X_test,w,b)\n",
        "accuracy=accuracy_score(y_test,y_pred)\n",
        "print(f\"Test Accuracy: {accuracy}\")"
      ]
    },
    {
      "cell_type": "markdown",
      "metadata": {
        "id": "e-JYMYMLisgX"
      },
      "source": [
        "# **Using Regularization**"
      ]
    },
    {
      "cell_type": "markdown",
      "metadata": {
        "id": "SR67LOdJi2ME"
      },
      "source": [
        "Modify the functions \"compute cost\", \"compute gradients\", and \"gradient descent\" to use regularization and compare the two results\n",
        "\n",
        "\n",
        "![image.png](data:image/png;base64,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)\n",
        "\n",
        "![image.png](data:image/png;base64,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)"
      ]
    },
    {
      "cell_type": "code",
      "execution_count": 23,
      "metadata": {
        "id": "nDmzXbGtjn9Q"
      },
      "outputs": [],
      "source": [
        "def compute_cost(X, y, w, b, lambda_):\n",
        "    \"\"\"\n",
        "    Computes the cost over all examples\n",
        "    Args:\n",
        "      X : (ndarray Shape (m,n)) data, m examples by n features\n",
        "      y : (array_like Shape (m,)) target value \n",
        "      w : (array_like Shape (n,)) Values of parameters of the model      \n",
        "      b : scalar Values of bias parameter of the model\n",
        "    Returns:\n",
        "      cost: (scalar)         cost \n",
        "    \"\"\"\n",
        "\n",
        "    m, n = X.shape\n",
        "    \n",
        "    f=sigmoid(np.dot(X,w)+b)\n",
        "    cost_pt1=np.sum(np.square(f-y))/2*m\n",
        "    cost_pt2=np.sum(w)*(lambda_/(2*m))\n",
        "    cost=cost_pt1+cost_pt2\n",
        "    \n",
        "\n",
        "\n",
        "    return cost"
      ]
    },
    {
      "cell_type": "code",
      "execution_count": 24,
      "metadata": {
        "id": "3K62LPd5jxvJ"
      },
      "outputs": [],
      "source": [
        "def compute_gradient(X,y,w,b, lambda_):\n",
        "  m, n = X.shape\n",
        "  #initialize dj_dw and dj_db a zeros\n",
        "  dj_dw = np.zeros(w.shape)\n",
        "  dj_db = 0.\n",
        "\n",
        "  f=sigmoid(np.dot(X,w))\n",
        "  dj_dw=np.sum(np.dot(X.T,(f-y))+w*(lambda_/m))/m\n",
        "  dj_db=np.sum((f-y))/m\n",
        "\n",
        "\n",
        "  return dj_dw, dj_db"
      ]
    },
    {
      "cell_type": "code",
      "execution_count": 25,
      "metadata": {
        "id": "FNfsGPLKjxvJ"
      },
      "outputs": [],
      "source": [
        "def gradient_descent(X, y, w_in, b_in, cost_function, gradient_function, alpha, num_iters, lambda_):\n",
        "    # number of training examples\n",
        "    m = len(X)\n",
        "    J_history = []\n",
        "\n",
        "    for i in range(num_iters):\n",
        "        # Calculate the gradient and update the parameters\n",
        "        dj_db, dj_dw = compute_gradient(X, y, w_in, b_in, lambda_)   \n",
        "\n",
        "        # Update Parameters using w, b, alpha and gradient\n",
        "        w_in =    w_in-(alpha*dj_dw)\n",
        "        b_in =    b_in-(alpha*dj_db)\n",
        "\n",
        "        # Save cost J at each iteration\n",
        "        if i < 100000:\n",
        "            cost = cost_function(X, y, w_in, b_in, lambda_)\n",
        "            J_history.append(cost)\n",
        "            if i % 10 == 0 and i < 100000 - 10:\n",
        "                print(\"cost = {}\".format(cost))\n",
        "        \n",
        "\n",
        "    return w_in, b_in, J_history\n"
      ]
    },
    {
      "cell_type": "markdown",
      "metadata": {
        "id": "XSI89B1Gky4x"
      },
      "source": [
        "# **Using sklearn**"
      ]
    },
    {
      "cell_type": "markdown",
      "metadata": {
        "id": "gzF57-vrk8cs"
      },
      "source": [
        "Try using Sklearn to implement logistic regression"
      ]
    },
    {
      "cell_type": "code",
      "execution_count": 26,
      "metadata": {
        "id": "9EyO8RByi1Lx"
      },
      "outputs": [
        {
          "data": {
            "text/plain": [
              "<bound method NDFrame.describe of      ID      Exam1      Exam2  Status\n",
              "0     1  34.623660  78.024693       0\n",
              "1     2  30.286711  43.894998       0\n",
              "2     3  35.847409  72.902198       0\n",
              "3     4  60.182599  86.308552       1\n",
              "4     5  79.032736  75.344376       1\n",
              "..  ...        ...        ...     ...\n",
              "95   96  83.489163  48.380286       1\n",
              "96   97  42.261701  87.103851       1\n",
              "97   98  99.315009  68.775409       1\n",
              "98   99  55.340018  64.931938       1\n",
              "99  100  74.775893  89.529813       1\n",
              "\n",
              "[100 rows x 4 columns]>"
            ]
          },
          "execution_count": 26,
          "metadata": {},
          "output_type": "execute_result"
        }
      ],
      "source": [
        "df=pd.read_csv('student_score.csv')\n",
        "df.describe"
      ]
    },
    {
      "cell_type": "code",
      "execution_count": 27,
      "metadata": {},
      "outputs": [],
      "source": [
        "x=df[['Exam1','Exam2']]\n",
        "y=df['Status']"
      ]
    },
    {
      "cell_type": "code",
      "execution_count": 28,
      "metadata": {},
      "outputs": [],
      "source": [
        "X_TRAIN,X_TEST,y_TRAIN,y_TEST=train_test_split(x,y,test_size=0.2,random_state=30)\n",
        "X_TRAIN=np.array(X_TRAIN)\n",
        "X_TEST=np.array(X_TEST)"
      ]
    },
    {
      "cell_type": "code",
      "execution_count": 29,
      "metadata": {},
      "outputs": [
        {
          "data": {
            "text/html": [
              "<style>#sk-container-id-1 {color: black;background-color: white;}#sk-container-id-1 pre{padding: 0;}#sk-container-id-1 div.sk-toggleable {background-color: white;}#sk-container-id-1 label.sk-toggleable__label {cursor: pointer;display: block;width: 100%;margin-bottom: 0;padding: 0.3em;box-sizing: border-box;text-align: center;}#sk-container-id-1 label.sk-toggleable__label-arrow:before {content: \"▸\";float: left;margin-right: 0.25em;color: #696969;}#sk-container-id-1 label.sk-toggleable__label-arrow:hover:before {color: black;}#sk-container-id-1 div.sk-estimator:hover label.sk-toggleable__label-arrow:before {color: black;}#sk-container-id-1 div.sk-toggleable__content {max-height: 0;max-width: 0;overflow: hidden;text-align: left;background-color: #f0f8ff;}#sk-container-id-1 div.sk-toggleable__content pre {margin: 0.2em;color: black;border-radius: 0.25em;background-color: #f0f8ff;}#sk-container-id-1 input.sk-toggleable__control:checked~div.sk-toggleable__content {max-height: 200px;max-width: 100%;overflow: auto;}#sk-container-id-1 input.sk-toggleable__control:checked~label.sk-toggleable__label-arrow:before {content: \"▾\";}#sk-container-id-1 div.sk-estimator input.sk-toggleable__control:checked~label.sk-toggleable__label {background-color: #d4ebff;}#sk-container-id-1 div.sk-label input.sk-toggleable__control:checked~label.sk-toggleable__label {background-color: #d4ebff;}#sk-container-id-1 input.sk-hidden--visually {border: 0;clip: rect(1px 1px 1px 1px);clip: rect(1px, 1px, 1px, 1px);height: 1px;margin: -1px;overflow: hidden;padding: 0;position: absolute;width: 1px;}#sk-container-id-1 div.sk-estimator {font-family: monospace;background-color: #f0f8ff;border: 1px dotted black;border-radius: 0.25em;box-sizing: border-box;margin-bottom: 0.5em;}#sk-container-id-1 div.sk-estimator:hover {background-color: #d4ebff;}#sk-container-id-1 div.sk-parallel-item::after {content: \"\";width: 100%;border-bottom: 1px solid gray;flex-grow: 1;}#sk-container-id-1 div.sk-label:hover label.sk-toggleable__label {background-color: #d4ebff;}#sk-container-id-1 div.sk-serial::before {content: \"\";position: absolute;border-left: 1px solid gray;box-sizing: border-box;top: 0;bottom: 0;left: 50%;z-index: 0;}#sk-container-id-1 div.sk-serial {display: flex;flex-direction: column;align-items: center;background-color: white;padding-right: 0.2em;padding-left: 0.2em;position: relative;}#sk-container-id-1 div.sk-item {position: relative;z-index: 1;}#sk-container-id-1 div.sk-parallel {display: flex;align-items: stretch;justify-content: center;background-color: white;position: relative;}#sk-container-id-1 div.sk-item::before, #sk-container-id-1 div.sk-parallel-item::before {content: \"\";position: absolute;border-left: 1px solid gray;box-sizing: border-box;top: 0;bottom: 0;left: 50%;z-index: -1;}#sk-container-id-1 div.sk-parallel-item {display: flex;flex-direction: column;z-index: 1;position: relative;background-color: white;}#sk-container-id-1 div.sk-parallel-item:first-child::after {align-self: flex-end;width: 50%;}#sk-container-id-1 div.sk-parallel-item:last-child::after {align-self: flex-start;width: 50%;}#sk-container-id-1 div.sk-parallel-item:only-child::after {width: 0;}#sk-container-id-1 div.sk-dashed-wrapped {border: 1px dashed gray;margin: 0 0.4em 0.5em 0.4em;box-sizing: border-box;padding-bottom: 0.4em;background-color: white;}#sk-container-id-1 div.sk-label label {font-family: monospace;font-weight: bold;display: inline-block;line-height: 1.2em;}#sk-container-id-1 div.sk-label-container {text-align: center;}#sk-container-id-1 div.sk-container {/* jupyter's `normalize.less` sets `[hidden] { display: none; }` but bootstrap.min.css set `[hidden] { display: none !important; }` so we also need the `!important` here to be able to override the default hidden behavior on the sphinx rendered scikit-learn.org. See: https://github.com/scikit-learn/scikit-learn/issues/21755 */display: inline-block !important;position: relative;}#sk-container-id-1 div.sk-text-repr-fallback {display: none;}</style><div id=\"sk-container-id-1\" class=\"sk-top-container\"><div class=\"sk-text-repr-fallback\"><pre>LogisticRegression()</pre><b>In a Jupyter environment, please rerun this cell to show the HTML representation or trust the notebook. <br />On GitHub, the HTML representation is unable to render, please try loading this page with nbviewer.org.</b></div><div class=\"sk-container\" hidden><div class=\"sk-item\"><div class=\"sk-estimator sk-toggleable\"><input class=\"sk-toggleable__control sk-hidden--visually\" id=\"sk-estimator-id-1\" type=\"checkbox\" checked><label for=\"sk-estimator-id-1\" class=\"sk-toggleable__label sk-toggleable__label-arrow\">LogisticRegression</label><div class=\"sk-toggleable__content\"><pre>LogisticRegression()</pre></div></div></div></div></div>"
            ],
            "text/plain": [
              "LogisticRegression()"
            ]
          },
          "execution_count": 29,
          "metadata": {},
          "output_type": "execute_result"
        }
      ],
      "source": [
        "model=LogisticRegression()\n",
        "model.fit(X_TRAIN,y_TRAIN)"
      ]
    },
    {
      "cell_type": "code",
      "execution_count": 30,
      "metadata": {},
      "outputs": [],
      "source": [
        "model.score(X_TEST,y_TEST)"
      ]
    },
    {
      "cell_type": "code",
      "execution_count": 33,
      "metadata": {},
      "outputs": [],
      "source": [
        "y_PREDICT=model.predict(X_TEST)"
      ]
    },
    {
      "cell_type": "markdown",
      "metadata": {
        "id": "RAYiaGuElCSI"
      },
      "source": [
        "# **Bonus Exercise**"
      ]
    },
    {
      "cell_type": "markdown",
      "metadata": {
        "id": "BibvwzzzlMY2"
      },
      "source": [
        "Implement Presision, Recall, and F1 Score to evauate the model either from scratch or by using sklearn.metrics"
      ]
    },
    {
      "cell_type": "code",
      "execution_count": 31,
      "metadata": {
        "id": "WvDHT6iLlKAm"
      },
      "outputs": [],
      "source": [
        "from sklearn.metrics import precision_score,recall_score, f1_score"
      ]
    },
    {
      "cell_type": "code",
      "execution_count": 35,
      "metadata": {},
      "outputs": [
        {
          "name": "stdout",
          "output_type": "stream",
          "text": [
            "0.9230769230769231\n",
            "1.0\n",
            "0.9600000000000001\n"
          ]
        }
      ],
      "source": [
        "print(precision_score(y_TEST,y_PREDICT))\n",
        "print(recall_score(y_TEST,y_PREDICT))\n",
        "print(f1_score(y_TEST,y_PREDICT))"
      ]
    },
    {
      "cell_type": "code",
      "execution_count": 34,
      "metadata": {},
      "outputs": [
        {
          "data": {
            "image/png": "[encoded data removed]",
            "text/plain": [
              "<Figure size 500x500 with 1 Axes>"
            ]
          },
          "metadata": {},
          "output_type": "display_data"
        }
      ],
      "source": [
        "conf_matrix=confusion_matrix(y_true=y_TEST,y_pred=y_PREDICT)\n",
        "fig, ax = plt.subplots(figsize=(5, 5))\n",
        "ax.matshow(conf_matrix, cmap=plt.cm.Oranges, alpha=0.3)\n",
        "for i in range(conf_matrix.shape[0]):\n",
        "    for j in range(conf_matrix.shape[1]):\n",
        "        ax.text(x=j, y=i,s=conf_matrix[i, j], va='center', ha='center', size='xx-large')\n",
        "plt.xlabel('Pred', fontsize=15)\n",
        "plt.ylabel('Real', fontsize=15)\n",
        "plt.title('Confusion Matrix', fontsize=20)\n",
        "plt.show()"
      ]
    },
    {
      "cell_type": "code",
      "execution_count": null,
      "metadata": {},
      "outputs": [],
      "source": []
    }
  ],
  "metadata": {
    "colab": {
      "provenance": []
    },
    "kernelspec": {
      "display_name": "Python 3",
      "name": "python3"
    },
    "language_info": {
      "codemirror_mode": {
        "name": "ipython",
        "version": 3
      },
      "file_extension": ".py",
      "mimetype": "text/x-python",
      "name": "python",
      "nbconvert_exporter": "python",
      "pygments_lexer": "ipython3",
      "version": "3.10.6"
    }
  },
  "nbformat": 4,
  "nbformat_minor": 0
}
